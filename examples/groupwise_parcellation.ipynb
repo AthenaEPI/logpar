{
 "cells": [
  {
   "cell_type": "markdown",
   "metadata": {
    "deletable": true,
    "editable": true
   },
   "source": [
    "# Groupwise Parcellation"
   ]
  },
  {
   "cell_type": "markdown",
   "metadata": {
    "deletable": true,
    "editable": true
   },
   "source": [
    "### Example data"
   ]
  },
  {
   "cell_type": "markdown",
   "metadata": {
    "deletable": true,
    "editable": true
   },
   "source": [
    "We have a CIFTI surface file: *./conn_data/L.very_inflated.32k_fs_LR.surf.gii*. This surface represents the left hemisphere (inflated) of the Colin27 template.\n",
    "\n",
    "We also have four (they could be more) CIFTI connectivity files: **./conn_data/*.insula.pconn.nii**\n",
    "\n",
    "Each file shows how each vertex of the insula is connected to the rest of the cortical mesh. More formally, we have a matrix $M \\in R^{N \\times M}$, where $N=$*number of vertices labeles as insula*, $M=$*number of vertices in the cortical mesh* such that: $M_{i,j} = P(i \\rightarrow j) = $ *probability of vertex $i$ being connected to the vertex $j$ through streamlines*"
   ]
  },
  {
   "cell_type": "markdown",
   "metadata": {
    "deletable": true,
    "editable": true
   },
   "source": [
    "If we load each connectivity file in workbench (https://www.humanconnectome.org/software/connectome-workbench.html) and press a point in the insula, we can see how it is connected to rest of the cortex:\n",
    "\n",
    "#### Subject 100408\n",
    "<img src='./img/100408.png'/>\n",
    "\n",
    "#### Subject 200109\n",
    "<img src='./img/200109.png'/>\n",
    "\n",
    "#### Subject 200614\n",
    "<img src='./img/200614.png'/>\n",
    "\n",
    "#### Subject 204521\n",
    "<img src='./img/204521.png'/>\n"
   ]
  },
  {
   "cell_type": "markdown",
   "metadata": {
    "deletable": true,
    "editable": true
   },
   "source": [
    "## Averaging CIFTI files; Parcelling the Result and Extracting a Parcellation"
   ]
  },
  {
   "cell_type": "markdown",
   "metadata": {
    "deletable": true,
    "editable": true
   },
   "source": [
    "The logpar's script *cifti_average* computes the average connectivity of a group. In particular, the average is computed **only** for the structures (vertices/voxels) or labels that are **present in all the subjects' dconn matrices**. If the flag *-in_logodds* is present, then the average is computed in the LogOdds space and the result is transformed back to the original one.\n",
    "\n",
    "The tool *cifti_parcellate* parcellates a given CIFTI file, along a direction (ROW or COLUMN). We can apply a *threshold* to the data before clustering (default value is 0). The *constraints* is an optional parameter, if used, it MUST be a CIFTI surface file. The flag *transform* indicates if the logit function should be applied to the data before clustering. *min_size* is the minimum expected size in the resulting clusters, measured in number of features.\n",
    "\n",
    "The tool *extract_parcellation* extracts a parcellation with a certain amount of parcels from the dendrogram."
   ]
  },
  {
   "cell_type": "markdown",
   "metadata": {
    "deletable": true,
    "editable": true
   },
   "source": [
    "````bash\n",
    "# Code to execute in an unix terminal\n",
    "\n",
    "# Average CIFTI files\n",
    "cifti_average -matrices ./conn_data/100408.insula.dconn.nii ./conn_data/200109.insula.dconn.nii ./conn_data/200614.insula.dconn.nii ./conn_data/204521.insula.dconn.nii -out results/insula.average.dconn.nii -in_logodds\n",
    "\n",
    "# Parcellate CIFTI files\n",
    "cifti_parcellate -cifti results/insula.average.dconn.nii -constraints ./conn_data/L.very_inflated.32k_fs_LR.surf.gii -direction COLUMN -transform -min_size 45 -out results/average.dendrogram.csv\n",
    "\n",
    "# Extract parcellation\n",
    "extract_parcellation -dendrogram results/average.dendrogram.csv -parcels 5 -out results/L.5.groupwise_parcellation.dlabel.nii````"
   ]
  },
  {
   "cell_type": "code",
   "execution_count": 9,
   "metadata": {
    "collapsed": false
   },
   "outputs": [
    {
     "name": "stdout",
     "output_type": "stream",
     "text": [
      "Modifying features matrix, please be aware.\r\n"
     ]
    }
   ],
   "source": [
    "# Average CIFTI files\n",
    "!cifti_average -matrices ./conn_data/100408.insula.dconn.nii ./conn_data/200109.insula.dconn.nii ./conn_data/200614.insula.dconn.nii ./conn_data/204521.insula.dconn.nii -out results/insula.average.dconn.nii -in_logodds\n",
    "\n",
    "# Parcellate CIFTI files\n",
    "!cifti_parcellate -cifti results/insula.average.dconn.nii -constraints ./conn_data/L.very_inflated.32k_fs_LR.surf.gii -direction COLUMN -transform -min_size 45 -out results/average.dendrogram.csv\n",
    "\n",
    "# Extract parcellation\n",
    "!extract_parcellation -dendrogram results/average.dendrogram.csv -parcels 5 -out results/L.5.groupwise_parcellation.dlabel.nii````"
   ]
  },
  {
   "cell_type": "markdown",
   "metadata": {
    "collapsed": false,
    "deletable": true,
    "editable": true
   },
   "source": [
    "### Results"
   ]
  },
  {
   "cell_type": "markdown",
   "metadata": {
    "deletable": true,
    "editable": true
   },
   "source": [
    "Average connectivity of the point presented in \"Example Data\":\n",
    "<img src='./img/average_conn.png' />"
   ]
  },
  {
   "cell_type": "markdown",
   "metadata": {
    "deletable": true,
    "editable": true
   },
   "source": [
    "Extracted parcellation (5 parcels):\n",
    "<img src='img/groupwise_parcellation.png' />"
   ]
  },
  {
   "cell_type": "code",
   "execution_count": null,
   "metadata": {
    "collapsed": true
   },
   "outputs": [],
   "source": []
  }
 ],
 "metadata": {
  "kernelspec": {
   "display_name": "Python 2",
   "language": "python",
   "name": "python2"
  },
  "language_info": {
   "codemirror_mode": {
    "name": "ipython",
    "version": 2
   },
   "file_extension": ".py",
   "mimetype": "text/x-python",
   "name": "python",
   "nbconvert_exporter": "python",
   "pygments_lexer": "ipython2",
   "version": "2.7.13"
  }
 },
 "nbformat": 4,
 "nbformat_minor": 2
}
