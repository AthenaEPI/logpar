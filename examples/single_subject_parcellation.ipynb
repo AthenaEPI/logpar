{
 "cells": [
  {
   "cell_type": "markdown",
   "metadata": {
    "deletable": true,
    "editable": true
   },
   "source": [
    "# CIFTI File Parcellation"
   ]
  },
  {
   "cell_type": "markdown",
   "metadata": {
    "deletable": true,
    "editable": true
   },
   "source": [
    "#### Example data"
   ]
  },
  {
   "cell_type": "markdown",
   "metadata": {
    "deletable": true,
    "editable": true
   },
   "source": [
    "We have a CIFTI surface file: *./conn_data/L.very_inflated.32k_fs_LR.surf.gii*. This surface represents the left hemisphere (inflated) of the Colin27 template.\n",
    "\n",
    "\n",
    "We also have a CIFTI connectivity file: *./conn_data/100408.insula.dconn.nii*. This file shows how each vertex on the insula is connected to the rest of the cortical mesh. More formally, we have a matrix $M \\in R^{N \\times M}$, where $N=$*number of vertices labeles as insula*, $M=$*number of vertices of the cortical mesh* such that: $M_{i,j} = P(i \\rightarrow j) = $ *probability of vertex $i$ being connected to the vertex $j$ through streamlines*"
   ]
  },
  {
   "cell_type": "markdown",
   "metadata": {
    "deletable": true,
    "editable": true
   },
   "source": [
    "If we load both files in workbench (https://www.humanconnectome.org/software/connectome-workbench.html) and press a point in the insula, we can see its connectivity: <img src='./img/100408.png'/>"
   ]
  },
  {
   "cell_type": "markdown",
   "metadata": {
    "deletable": true,
    "editable": true
   },
   "source": [
    "## Parceling  a CIFTI file and Extracting Parcellation"
   ]
  },
  {
   "cell_type": "markdown",
   "metadata": {
    "deletable": true,
    "editable": true
   },
   "source": [
    "The tool *cifti_parcellate* parcellates a given CIFTI file, along a direction (ROW or COLUMN). We can apply a *threshold* to the data before clustering (default value is 0). The *constraints* is an optional parameter, if used, it MUST be a CIFTI surface file. The flag *transform* indicates if the logit function should be applied to the data before clustering. *min_size* is the minimum expected size in the resulting clusters, measured in number of features.\n",
    "\n",
    "The tool *extract_parcellation* extracts a parcellation with a certain amount of parcels from the dendrogram."
   ]
  },
  {
   "cell_type": "markdown",
   "metadata": {
    "collapsed": true,
    "deletable": true,
    "editable": true
   },
   "source": [
    "````bash\n",
    "# This code has to be executed in a unix terminal\n",
    "\n",
    "# Parcellates a CIFTI file\n",
    "cifti_parcellate -cifti ./conn_data/100408.insula.dconn.nii -constraints ./conn_data/L.very_inflated.32k_fs_LR.surf.gii -direction COLUMN -transform -min_size 45 -out results/dendrogram.csv\n",
    "\n",
    "# Extracts a parcellation from the dendrogram\n",
    "extract_parcellation -dendrogram results/dendrogram.csv -parcels 5 -out results/L.parcellation.insula.5.dlabel.nii\n",
    "````"
   ]
  },
  {
   "cell_type": "markdown",
   "metadata": {
    "deletable": true,
    "editable": true
   },
   "source": [
    "#### Visualizing Results"
   ]
  },
  {
   "cell_type": "markdown",
   "metadata": {
    "deletable": true,
    "editable": true
   },
   "source": [
    "And this is how the extracted parcellation (5 parcels) looks like over the surface when loaded in HCP's workbench:\n",
    "<img src='img/single_subject.png' />"
   ]
  },
  {
   "cell_type": "code",
   "execution_count": null,
   "metadata": {
    "collapsed": true
   },
   "outputs": [],
   "source": []
  }
 ],
 "metadata": {
  "kernelspec": {
   "display_name": "Python 2",
   "language": "python",
   "name": "python2"
  },
  "language_info": {
   "codemirror_mode": {
    "name": "ipython",
    "version": 2
   },
   "file_extension": ".py",
   "mimetype": "text/x-python",
   "name": "python",
   "nbconvert_exporter": "python",
   "pygments_lexer": "ipython2",
   "version": "2.7.13"
  }
 },
 "nbformat": 4,
 "nbformat_minor": 2
}
